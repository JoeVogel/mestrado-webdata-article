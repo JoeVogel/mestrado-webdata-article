{
  "nbformat": 4,
  "nbformat_minor": 0,
  "metadata": {
    "colab": {
      "provenance": [],
      "toc_visible": true
    },
    "kernelspec": {
      "name": "python3",
      "display_name": "Python 3"
    },
    "language_info": {
      "name": "python"
    }
  },
  "cells": [
    {
      "cell_type": "markdown",
      "source": [
        "# Imports"
      ],
      "metadata": {
        "id": "Qv0A6Sxbi8rJ"
      }
    },
    {
      "cell_type": "code",
      "source": [
        "from google.colab import drive\n",
        "\n",
        "drive.mount('/content/drive')"
      ],
      "metadata": {
        "colab": {
          "base_uri": "https://localhost:8080/"
        },
        "id": "6FgttJh0lgsR",
        "outputId": "8c0d81e6-3dde-490f-8035-e0da1e02a2ec"
      },
      "execution_count": 1,
      "outputs": [
        {
          "output_type": "stream",
          "name": "stdout",
          "text": [
            "Mounted at /content/drive\n"
          ]
        }
      ]
    },
    {
      "cell_type": "code",
      "source": [
        "import pandas as pd\n",
        "from datetime import datetime\n",
        "import numpy as np\n",
        "\n",
        "\n"
      ],
      "metadata": {
        "id": "jEICM-mllmA6"
      },
      "execution_count": 67,
      "outputs": []
    },
    {
      "cell_type": "code",
      "source": [
        "df_meteo = pd.read_csv('/content/drive/MyDrive/Mestrado/WEB Data/Trabalho final/open-meteo-51.49N0.16W23m.csv', sep=';')\n",
        "\n",
        "df_incidents = pd.read_csv('/content/drive/MyDrive/Mestrado/WEB Data/Trabalho final/jan-dec-2022-gla-data-extract-attendant.csv')"
      ],
      "metadata": {
        "id": "-jWuSJQoV5gj"
      },
      "execution_count": 133,
      "outputs": []
    },
    {
      "cell_type": "code",
      "source": [
        "df_meteo.columns"
      ],
      "metadata": {
        "id": "OPv8J6yT1hy4"
      },
      "execution_count": null,
      "outputs": []
    },
    {
      "cell_type": "code",
      "source": [
        "df_meteo.head(100)"
      ],
      "metadata": {
        "id": "s5LytRfSoQ4z"
      },
      "execution_count": null,
      "outputs": []
    },
    {
      "cell_type": "code",
      "source": [
        "len(df_incidents)"
      ],
      "metadata": {
        "id": "RPSAalRN_Cvz"
      },
      "execution_count": null,
      "outputs": []
    },
    {
      "cell_type": "code",
      "source": [
        "df_incidents.columns"
      ],
      "metadata": {
        "id": "2JT3dQ_G_zab"
      },
      "execution_count": null,
      "outputs": []
    },
    {
      "cell_type": "code",
      "source": [
        "df_incidents['Place Collision Reported'].unique()"
      ],
      "metadata": {
        "id": "JtHKybaVXcd2"
      },
      "execution_count": null,
      "outputs": []
    },
    {
      "cell_type": "code",
      "source": [
        "df_incidents[['Day Name', 'Time', 'Highway Authority', 'First Road Class', 'First Road Number',\n",
        "       'Road Type', 'Speed Limit', 'Junction Detail']].head(1)"
      ],
      "metadata": {
        "id": "gie3MN8XZJLV"
      },
      "execution_count": null,
      "outputs": []
    },
    {
      "cell_type": "code",
      "source": [
        "df_incidents.head(1)"
      ],
      "metadata": {
        "id": "OMam5gW5nj9c"
      },
      "execution_count": null,
      "outputs": []
    },
    {
      "cell_type": "markdown",
      "source": [
        "# Date and time adjusts"
      ],
      "metadata": {
        "id": "NrcPChTcs38H"
      }
    },
    {
      "cell_type": "markdown",
      "source": [
        "## Weather dataset"
      ],
      "metadata": {
        "id": "yOLk9ujLs_K6"
      }
    },
    {
      "cell_type": "code",
      "source": [
        "df_meteo['datetime'] = pd.to_datetime(df_meteo['time'])\n",
        "\n",
        "df_meteo.drop(['time'], axis='columns', inplace=True)"
      ],
      "metadata": {
        "id": "EsFvLOvVtMdW"
      },
      "execution_count": 134,
      "outputs": []
    },
    {
      "cell_type": "code",
      "source": [
        "df_meteo.head(100)"
      ],
      "metadata": {
        "id": "Ow8xHO5Kt-dT"
      },
      "execution_count": null,
      "outputs": []
    },
    {
      "cell_type": "markdown",
      "source": [
        "## Incident dataset"
      ],
      "metadata": {
        "id": "z6i1UP0gtGAc"
      }
    },
    {
      "cell_type": "code",
      "source": [
        "df_incidents['_Collision Date'] = pd.to_datetime(df_incidents['_Collision Date'])\n",
        "df_incidents['Time'] = pd.to_datetime(df_incidents['Time']).dt.time\n"
      ],
      "metadata": {
        "id": "IHmrixvcZ5EW"
      },
      "execution_count": 135,
      "outputs": []
    },
    {
      "cell_type": "code",
      "source": [
        "# Criando uma nova coluna combinando data e hora\n",
        "df_incidents['DateTime Rounded Hour'] = df_incidents['_Collision Date'].astype(str) + ' ' + df_incidents['Time'].apply(lambda x: x.hour).astype(str) + ':00:00'\n",
        "\n",
        "# Convertendo a coluna para o formato desejado\n",
        "df_incidents['DateTime Rounded Hour'] = pd.to_datetime(df_incidents['DateTime Rounded Hour'], format='%Y-%m-%d %H:%M:%S')\n"
      ],
      "metadata": {
        "id": "29jIKpxZagfO"
      },
      "execution_count": 136,
      "outputs": []
    },
    {
      "cell_type": "code",
      "source": [
        "df_incidents.drop(['_Collision Date'], axis='columns', inplace=True)\n",
        "df_incidents.drop(['Time'], axis='columns', inplace=True)"
      ],
      "metadata": {
        "id": "iOEdID5cRpy6"
      },
      "execution_count": 137,
      "outputs": []
    },
    {
      "cell_type": "code",
      "source": [
        "df_incidents.columns"
      ],
      "metadata": {
        "id": "bxlOpoQM3ar1"
      },
      "execution_count": null,
      "outputs": []
    },
    {
      "cell_type": "markdown",
      "source": [
        "# Merge datasets"
      ],
      "metadata": {
        "id": "Uw0P3XDUdt3D"
      }
    },
    {
      "cell_type": "code",
      "source": [
        "merged_df = pd.merge(df_incidents, df_meteo, how='left', left_on='DateTime Rounded Hour', right_on='datetime')\n",
        "\n",
        "merged_df.drop(['datetime'], axis='columns', inplace=True)\n",
        "\n",
        "merged_df.sort_values('DateTime Rounded Hour', inplace=True)"
      ],
      "metadata": {
        "id": "NPyU9Bj7dw9D"
      },
      "execution_count": 138,
      "outputs": []
    },
    {
      "cell_type": "markdown",
      "source": [
        "# Column clear"
      ],
      "metadata": {
        "id": "pIEhnXKSUFpU"
      }
    },
    {
      "cell_type": "code",
      "source": [
        "merged_df.drop(['_Collision Id'], axis='columns', inplace=True)\n",
        "merged_df.drop(['Borough Name'], axis='columns', inplace=True)\n",
        "merged_df.drop(['Borough Number'], axis='columns', inplace=True)\n",
        "merged_df.drop(['Easting'], axis='columns', inplace=True)\n",
        "merged_df.drop(['Northing'], axis='columns', inplace=True)\n",
        "merged_df.drop(['Collision Location'], axis='columns', inplace=True)\n",
        "merged_df.drop(['_Casualty Count'], axis='columns', inplace=True)\n",
        "merged_df.drop(['_Vehicle Count'], axis='columns', inplace=True)\n",
        "merged_df.drop(['Highway Authority'], axis='columns', inplace=True)\n",
        "merged_df.drop(['First Road Class'], axis='columns', inplace=True)\n",
        "merged_df.drop(['First Road Number'], axis='columns', inplace=True)\n",
        "merged_df.drop(['Road Type'], axis='columns', inplace=True)\n",
        "merged_df.drop(['Junction Detail'], axis='columns', inplace=True)\n",
        "merged_df.drop(['Junction Control'], axis='columns', inplace=True)\n",
        "merged_df.drop(['Second Road Class'], axis='columns', inplace=True)\n",
        "merged_df.drop(['Second Road Number'], axis='columns', inplace=True)\n",
        "merged_df.drop(['Pedestrian Crossing Facilities'], axis='columns', inplace=True)\n",
        "merged_df.drop(['Weather Details'], axis='columns', inplace=True)\n",
        "merged_df.drop(['Road Surface Condition'], axis='columns', inplace=True)\n",
        "merged_df.drop(['Special Conditions at Site'], axis='columns', inplace=True)\n",
        "merged_df.drop(['Carriageway Hazards'], axis='columns', inplace=True)\n",
        "merged_df.drop(['Place Collision Reported'], axis='columns', inplace=True)\n",
        "merged_df.drop(['precipitation (mm)'], axis='columns', inplace=True)\n",
        "merged_df.drop(['relative_humidity_2m (%)'], axis='columns', inplace=True)\n"
      ],
      "metadata": {
        "id": "rT1-HzLMUMCx"
      },
      "execution_count": 139,
      "outputs": []
    },
    {
      "cell_type": "markdown",
      "source": [
        "# Data normalization"
      ],
      "metadata": {
        "id": "Jhdk4I5RcLmF"
      }
    },
    {
      "cell_type": "code",
      "source": [
        "merged_df['_Collision Severity'] = pd.factorize(merged_df['_Collision Severity'])[0] + 1\n",
        "merged_df['Day Name'] = pd.factorize(merged_df['Day Name'])[0] + 1\n",
        "merged_df['Light Conditions'] = pd.factorize(merged_df['Light Conditions'])[0] + 1"
      ],
      "metadata": {
        "id": "ySfqYg4AcPMP"
      },
      "execution_count": 140,
      "outputs": []
    },
    {
      "cell_type": "code",
      "source": [
        "merged_df['temperature_2m (°C)'] = (merged_df['temperature_2m (°C)'] - merged_df['temperature_2m (°C)'].min()) / (merged_df['temperature_2m (°C)'].max() - merged_df['temperature_2m (°C)'].min())\n",
        "merged_df['snowfall (cm)'] = (merged_df['snowfall (cm)'] - merged_df['snowfall (cm)'].min()) / (merged_df['snowfall (cm)'].max() - merged_df['snowfall (cm)'].min())\n",
        "merged_df['Speed Limit'] = (merged_df['Speed Limit'] - merged_df['Speed Limit'].min()) / (merged_df['Speed Limit'].max() - merged_df['Speed Limit'].min())\n",
        "merged_df['rain (mm)'] = (merged_df['rain (mm)'] - merged_df['rain (mm)'].min()) / (merged_df['rain (mm)'].max() - merged_df['rain (mm)'].min())\n",
        ""
      ],
      "metadata": {
        "id": "vc_RTt_ufDoO"
      },
      "execution_count": 141,
      "outputs": []
    },
    {
      "cell_type": "markdown",
      "source": [
        "# Data check"
      ],
      "metadata": {
        "id": "qnMxbya9tH7t"
      }
    },
    {
      "cell_type": "code",
      "source": [
        "len(merged_df)"
      ],
      "metadata": {
        "colab": {
          "base_uri": "https://localhost:8080/"
        },
        "id": "a_h_w4_AuXiT",
        "outputId": "247ebdfb-f165-4ec0-8a18-f5e1287c88e0"
      },
      "execution_count": 51,
      "outputs": [
        {
          "output_type": "execute_result",
          "data": {
            "text/plain": [
              "23465"
            ]
          },
          "metadata": {},
          "execution_count": 51
        }
      ]
    },
    {
      "cell_type": "code",
      "source": [
        "merged_df.head(1)"
      ],
      "metadata": {
        "colab": {
          "base_uri": "https://localhost:8080/",
          "height": 98
        },
        "id": "4Q-IGcxKcvp6",
        "outputId": "143fc56a-4f7f-4c61-beb8-59d63e307989"
      },
      "execution_count": 71,
      "outputs": [
        {
          "output_type": "execute_result",
          "data": {
            "text/plain": [
              "      _Collision Severity  Day Name  Speed Limit  Light Conditions  \\\n",
              "8632                    1         1     0.253731                 1   \n",
              "\n",
              "      temperature_2m (°C)  rain (mm)  snowfall (cm)  Month  Day  Hour  \n",
              "8632             0.418014        0.0            0.0      1    1     0  "
            ],
            "text/html": [
              "\n",
              "  <div id=\"df-862bdcda-972b-418a-9fab-34ce655100ff\" class=\"colab-df-container\">\n",
              "    <div>\n",
              "<style scoped>\n",
              "    .dataframe tbody tr th:only-of-type {\n",
              "        vertical-align: middle;\n",
              "    }\n",
              "\n",
              "    .dataframe tbody tr th {\n",
              "        vertical-align: top;\n",
              "    }\n",
              "\n",
              "    .dataframe thead th {\n",
              "        text-align: right;\n",
              "    }\n",
              "</style>\n",
              "<table border=\"1\" class=\"dataframe\">\n",
              "  <thead>\n",
              "    <tr style=\"text-align: right;\">\n",
              "      <th></th>\n",
              "      <th>_Collision Severity</th>\n",
              "      <th>Day Name</th>\n",
              "      <th>Speed Limit</th>\n",
              "      <th>Light Conditions</th>\n",
              "      <th>temperature_2m (°C)</th>\n",
              "      <th>rain (mm)</th>\n",
              "      <th>snowfall (cm)</th>\n",
              "      <th>Month</th>\n",
              "      <th>Day</th>\n",
              "      <th>Hour</th>\n",
              "    </tr>\n",
              "  </thead>\n",
              "  <tbody>\n",
              "    <tr>\n",
              "      <th>8632</th>\n",
              "      <td>1</td>\n",
              "      <td>1</td>\n",
              "      <td>0.253731</td>\n",
              "      <td>1</td>\n",
              "      <td>0.418014</td>\n",
              "      <td>0.0</td>\n",
              "      <td>0.0</td>\n",
              "      <td>1</td>\n",
              "      <td>1</td>\n",
              "      <td>0</td>\n",
              "    </tr>\n",
              "  </tbody>\n",
              "</table>\n",
              "</div>\n",
              "    <div class=\"colab-df-buttons\">\n",
              "\n",
              "  <div class=\"colab-df-container\">\n",
              "    <button class=\"colab-df-convert\" onclick=\"convertToInteractive('df-862bdcda-972b-418a-9fab-34ce655100ff')\"\n",
              "            title=\"Convert this dataframe to an interactive table.\"\n",
              "            style=\"display:none;\">\n",
              "\n",
              "  <svg xmlns=\"http://www.w3.org/2000/svg\" height=\"24px\" viewBox=\"0 -960 960 960\">\n",
              "    <path d=\"M120-120v-720h720v720H120Zm60-500h600v-160H180v160Zm220 220h160v-160H400v160Zm0 220h160v-160H400v160ZM180-400h160v-160H180v160Zm440 0h160v-160H620v160ZM180-180h160v-160H180v160Zm440 0h160v-160H620v160Z\"/>\n",
              "  </svg>\n",
              "    </button>\n",
              "\n",
              "  <style>\n",
              "    .colab-df-container {\n",
              "      display:flex;\n",
              "      gap: 12px;\n",
              "    }\n",
              "\n",
              "    .colab-df-convert {\n",
              "      background-color: #E8F0FE;\n",
              "      border: none;\n",
              "      border-radius: 50%;\n",
              "      cursor: pointer;\n",
              "      display: none;\n",
              "      fill: #1967D2;\n",
              "      height: 32px;\n",
              "      padding: 0 0 0 0;\n",
              "      width: 32px;\n",
              "    }\n",
              "\n",
              "    .colab-df-convert:hover {\n",
              "      background-color: #E2EBFA;\n",
              "      box-shadow: 0px 1px 2px rgba(60, 64, 67, 0.3), 0px 1px 3px 1px rgba(60, 64, 67, 0.15);\n",
              "      fill: #174EA6;\n",
              "    }\n",
              "\n",
              "    .colab-df-buttons div {\n",
              "      margin-bottom: 4px;\n",
              "    }\n",
              "\n",
              "    [theme=dark] .colab-df-convert {\n",
              "      background-color: #3B4455;\n",
              "      fill: #D2E3FC;\n",
              "    }\n",
              "\n",
              "    [theme=dark] .colab-df-convert:hover {\n",
              "      background-color: #434B5C;\n",
              "      box-shadow: 0px 1px 3px 1px rgba(0, 0, 0, 0.15);\n",
              "      filter: drop-shadow(0px 1px 2px rgba(0, 0, 0, 0.3));\n",
              "      fill: #FFFFFF;\n",
              "    }\n",
              "  </style>\n",
              "\n",
              "    <script>\n",
              "      const buttonEl =\n",
              "        document.querySelector('#df-862bdcda-972b-418a-9fab-34ce655100ff button.colab-df-convert');\n",
              "      buttonEl.style.display =\n",
              "        google.colab.kernel.accessAllowed ? 'block' : 'none';\n",
              "\n",
              "      async function convertToInteractive(key) {\n",
              "        const element = document.querySelector('#df-862bdcda-972b-418a-9fab-34ce655100ff');\n",
              "        const dataTable =\n",
              "          await google.colab.kernel.invokeFunction('convertToInteractive',\n",
              "                                                    [key], {});\n",
              "        if (!dataTable) return;\n",
              "\n",
              "        const docLinkHtml = 'Like what you see? Visit the ' +\n",
              "          '<a target=\"_blank\" href=https://colab.research.google.com/notebooks/data_table.ipynb>data table notebook</a>'\n",
              "          + ' to learn more about interactive tables.';\n",
              "        element.innerHTML = '';\n",
              "        dataTable['output_type'] = 'display_data';\n",
              "        await google.colab.output.renderOutput(dataTable, element);\n",
              "        const docLink = document.createElement('div');\n",
              "        docLink.innerHTML = docLinkHtml;\n",
              "        element.appendChild(docLink);\n",
              "      }\n",
              "    </script>\n",
              "  </div>\n",
              "\n",
              "    </div>\n",
              "  </div>\n"
            ]
          },
          "metadata": {},
          "execution_count": 71
        }
      ]
    },
    {
      "cell_type": "code",
      "source": [
        "merged_df['_Collision Severity'].value_counts()"
      ],
      "metadata": {
        "colab": {
          "base_uri": "https://localhost:8080/"
        },
        "id": "r7AsiC1jtN8E",
        "outputId": "086e0074-7c39-4dd1-88d1-31c9a2b6d687"
      },
      "execution_count": 46,
      "outputs": [
        {
          "output_type": "execute_result",
          "data": {
            "text/plain": [
              "1    19645\n",
              "2     3720\n",
              "3      100\n",
              "Name: _Collision Severity, dtype: int64"
            ]
          },
          "metadata": {},
          "execution_count": 46
        }
      ]
    },
    {
      "cell_type": "code",
      "source": [
        "merged_df['Day Name'].value_counts()"
      ],
      "metadata": {
        "colab": {
          "base_uri": "https://localhost:8080/"
        },
        "id": "AJAdbBs6tX7F",
        "outputId": "b3a2ee21-82b2-4dcc-8e54-7d83f0db37e0"
      },
      "execution_count": 47,
      "outputs": [
        {
          "output_type": "execute_result",
          "data": {
            "text/plain": [
              "3    3851\n",
              "7    3662\n",
              "5    3442\n",
              "2    3396\n",
              "1    3364\n",
              "6    3111\n",
              "4    2639\n",
              "Name: Day Name, dtype: int64"
            ]
          },
          "metadata": {},
          "execution_count": 47
        }
      ]
    },
    {
      "cell_type": "code",
      "source": [
        "merged_df['Light Conditions'].value_counts()"
      ],
      "metadata": {
        "colab": {
          "base_uri": "https://localhost:8080/"
        },
        "id": "m2hrMSvEtiM_",
        "outputId": "947a82a6-3d1a-49eb-a639-85b74da05cfe"
      },
      "execution_count": 48,
      "outputs": [
        {
          "output_type": "execute_result",
          "data": {
            "text/plain": [
              "1    15972\n",
              "2     6840\n",
              "4      376\n",
              "3      145\n",
              "5      132\n",
              "Name: Light Conditions, dtype: int64"
            ]
          },
          "metadata": {},
          "execution_count": 48
        }
      ]
    },
    {
      "cell_type": "code",
      "source": [
        "merged_df['rain (mm)'].value_counts()"
      ],
      "metadata": {
        "colab": {
          "base_uri": "https://localhost:8080/"
        },
        "id": "trQsGxh1trPu",
        "outputId": "49e64d9c-0b8d-4b23-9161-3bc5b20e5d65"
      },
      "execution_count": 142,
      "outputs": [
        {
          "output_type": "execute_result",
          "data": {
            "text/plain": [
              "0.000000    20002\n",
              "0.006803     1341\n",
              "0.013605      581\n",
              "0.020408      347\n",
              "0.027211      198\n",
              "0.034014      166\n",
              "0.040816      110\n",
              "0.054422       96\n",
              "0.068027       80\n",
              "0.061224       76\n",
              "0.047619       58\n",
              "0.074830       53\n",
              "0.108844       39\n",
              "0.088435       39\n",
              "0.081633       37\n",
              "0.095238       32\n",
              "0.122449       31\n",
              "0.115646       17\n",
              "0.129252       16\n",
              "0.183673       16\n",
              "0.102041       13\n",
              "0.136054       11\n",
              "0.272109       10\n",
              "0.170068       10\n",
              "0.190476       10\n",
              "0.163265        8\n",
              "0.142857        8\n",
              "0.149660        7\n",
              "0.176871        7\n",
              "0.299320        6\n",
              "0.217687        5\n",
              "0.156463        4\n",
              "0.197279        4\n",
              "0.265306        4\n",
              "0.408163        4\n",
              "0.863946        3\n",
              "0.251701        3\n",
              "0.224490        3\n",
              "0.707483        2\n",
              "0.510204        2\n",
              "0.346939        2\n",
              "1.000000        1\n",
              "0.326531        1\n",
              "0.455782        1\n",
              "0.258503        1\n",
              "Name: rain (mm), dtype: int64"
            ]
          },
          "metadata": {},
          "execution_count": 142
        }
      ]
    },
    {
      "cell_type": "code",
      "source": [
        "merged_df['snowfall (cm)'].value_counts()"
      ],
      "metadata": {
        "colab": {
          "base_uri": "https://localhost:8080/"
        },
        "id": "H195RM6Mt4_B",
        "outputId": "94f063d7-058d-4652-e22e-23b045607059"
      },
      "execution_count": 50,
      "outputs": [
        {
          "output_type": "execute_result",
          "data": {
            "text/plain": [
              "0.000000    23426\n",
              "0.333333       30\n",
              "0.666667        7\n",
              "1.000000        2\n",
              "Name: snowfall (cm), dtype: int64"
            ]
          },
          "metadata": {},
          "execution_count": 50
        }
      ]
    },
    {
      "cell_type": "markdown",
      "source": [
        "# Export datasets"
      ],
      "metadata": {
        "id": "e2dJ0ufr3k6e"
      }
    },
    {
      "cell_type": "code",
      "source": [
        "merged_df.to_csv('/content/drive/MyDrive/Mestrado/WEB Data/Trabalho final/generated_dataset.csv')"
      ],
      "metadata": {
        "id": "CYcOXg0Q3px6"
      },
      "execution_count": 132,
      "outputs": []
    }
  ]
}